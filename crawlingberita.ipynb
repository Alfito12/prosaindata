{
  "nbformat": 4,
  "nbformat_minor": 0,
  "metadata": {
    "colab": {
      "provenance": [],
      "authorship_tag": "ABX9TyP9aXsQL+a6de+E/kx9CWyc",
      "include_colab_link": true
    },
    "kernelspec": {
      "name": "python3",
      "display_name": "Python 3"
    },
    "language_info": {
      "name": "python"
    }
  },
  "cells": [
    {
      "cell_type": "markdown",
      "metadata": {
        "id": "view-in-github",
        "colab_type": "text"
      },
      "source": [
        "<a href=\"https://colab.research.google.com/github/Alfito12/prosaindata/blob/main/crawlingberita.ipynb\" target=\"_parent\"><img src=\"https://colab.research.google.com/assets/colab-badge.svg\" alt=\"Open In Colab\"/></a>"
      ]
    },
    {
      "cell_type": "markdown",
      "source": [
        "# Crawling data Website Berita\n",
        "\n",
        "---\n",
        "\n"
      ],
      "metadata": {
        "id": "84kOMm9DunvU"
      }
    },
    {
      "cell_type": "markdown",
      "source": [
        "## 1. Install modul Beautifulsoup dan requests"
      ],
      "metadata": {
        "id": "REkTotjjuzx6"
      }
    },
    {
      "cell_type": "code",
      "execution_count": 1,
      "metadata": {
        "colab": {
          "base_uri": "https://localhost:8080/"
        },
        "id": "Sfap24aNt4qV",
        "outputId": "391f2ef9-8b9a-4d5f-cb78-fc2c32ca6065"
      },
      "outputs": [
        {
          "output_type": "stream",
          "name": "stdout",
          "text": [
            "Looking in indexes: https://pypi.org/simple, https://us-python.pkg.dev/colab-wheels/public/simple/\n",
            "Requirement already satisfied: requests in /usr/local/lib/python3.8/dist-packages (2.25.1)\n",
            "Requirement already satisfied: idna<3,>=2.5 in /usr/local/lib/python3.8/dist-packages (from requests) (2.10)\n",
            "Requirement already satisfied: chardet<5,>=3.0.2 in /usr/local/lib/python3.8/dist-packages (from requests) (4.0.0)\n",
            "Requirement already satisfied: certifi>=2017.4.17 in /usr/local/lib/python3.8/dist-packages (from requests) (2022.12.7)\n",
            "Requirement already satisfied: urllib3<1.27,>=1.21.1 in /usr/local/lib/python3.8/dist-packages (from requests) (1.26.14)\n",
            "Looking in indexes: https://pypi.org/simple, https://us-python.pkg.dev/colab-wheels/public/simple/\n",
            "Requirement already satisfied: BeautifulSoup4 in /usr/local/lib/python3.8/dist-packages (4.6.3)\n"
          ]
        }
      ],
      "source": [
        "!pip install requests\n",
        "!pip install BeautifulSoup4"
      ]
    },
    {
      "cell_type": "markdown",
      "source": [
        "## 2. Import library"
      ],
      "metadata": {
        "id": "3NRgphkvvXiv"
      }
    },
    {
      "cell_type": "code",
      "source": [
        "import requests\n",
        "from bs4 import BeautifulSoup\n",
        "import pandas as pd"
      ],
      "metadata": {
        "id": "DNwolHzvvcpF"
      },
      "execution_count": 2,
      "outputs": []
    },
    {
      "cell_type": "markdown",
      "source": [
        "## 3. Proses crawling"
      ],
      "metadata": {
        "id": "4T6KZ1_ovw-A"
      }
    },
    {
      "cell_type": "code",
      "source": [
        "#Inisialisasi Link URL\n",
        "url = 'https://www.liputan6.com/news/indeks'\n",
        "\n",
        "headers={\n",
        "    'user-agent': 'Mozilla/5.0 (Windows NT 10.0; Win64; x64) AppleWebKit/537.36 (KHTML, like Gecko) Chrome/109.0.0.0 Safari/537.36'\n",
        "    }\n",
        "\n",
        "#inisialisasi list untuk memasukkan hasil crawling kedalam list\n",
        "listJudul = []\n",
        "listIsi = []\n",
        "\n",
        "#proses perulangan untuk crawling data\n",
        "for page in range (1,4):\n",
        "  req = requests.get(url+'?page='+str(page), headers=headers)\n",
        "  soup = BeautifulSoup(req.text, 'html.parser')\n",
        "  items = soup.findAll('article','articles--rows--item')\n",
        "  for it in items:\n",
        "    try: link = it.find('a')['href']\n",
        "    except : link=''\n",
        "    try: title = it.find('span', 'articles--rows--item__title-link-text').text \n",
        "    except : title=''\n",
        "\n",
        "    if link != '':\n",
        "      req2 = requests.get(str(link), headers=headers)\n",
        "      soup2 = BeautifulSoup(req2.text, 'html.parser')\n",
        "      items2 = soup2.findAll(\"div\", \"article-content-body__item-page \")\n",
        "      for it2 in items2:\n",
        "        try : berita = it2.find('p').text.replace('Liputan6.com, Jakarta -','')\n",
        "        except : berita=''\n",
        "\n",
        "        if berita != '':\n",
        "          listJudul.append(title)\n",
        "          listIsi.append(berita)\n",
        "\n",
        "      \n",
        "df_Judul = pd.DataFrame(listJudul, columns=[\"Judul Berita\"])\n",
        "df_Isi = pd.DataFrame(listIsi, columns=[\"Isi Berita\"])\n",
        "\n",
        "data = pd.concat([df_Judul, df_Isi], axis=1)\n",
        "data = data.loc[0:100]\n",
        "data\n",
        "\n",
        "        \n"
      ],
      "metadata": {
        "colab": {
          "base_uri": "https://localhost:8080/",
          "height": 645
        },
        "id": "CAGfEu9CwBHl",
        "outputId": "b2818199-f725-4ce1-e24f-380fbc219507"
      },
      "execution_count": 3,
      "outputs": [
        {
          "output_type": "execute_result",
          "data": {
            "text/plain": [
              "                                         Judul Berita  \\\n",
              "0   Top 3 News: Pekerja Bangunan di Tangerang Sera...   \n",
              "1   NasDem Desak MA Beri Peringatan PN Jakpus atas...   \n",
              "2   Soal Putusan PN Jakpus, Megawati: Upaya Penund...   \n",
              "3   Klarifikasi Harta Rp56 Miliar Belum Selesai, K...   \n",
              "4   Jelang Akhir Pekan, Simak Lagi 26 Titik Ganjil...   \n",
              "5   KY Persilahkan KPU Lapor atas Putusan PN Jakpu...   \n",
              "6   KPK Sebut Rafael Alun Punya Saham di 6 Perusah...   \n",
              "7   Cuaca Hari Ini Jumat 3 Maret 2023: Pagi Jakart...   \n",
              "8   Banjir di Kota Tangerang, Dinsos Salurkan Bant...   \n",
              "9   Komisi II DPR Bakal Panggil KPU Terkait Putusa...   \n",
              "10  Ketua Komisi II: PN Jakpus Lampaui Kewenangan ...   \n",
              "11  Hadapi Vonis PN Jakpus, Mahfud Md: KPU Harus L...   \n",
              "12  Megawati Disebut Sudah Bertemu Sri Mulyani, Be...   \n",
              "13  Tunggu Salinan Resmi dari PN Jakpus, KPU Pasti...   \n",
              "14  Dave Laksono ke Barcelona, Bangun Kerja Sama P...   \n",
              "15  Kabar Ada Miras di Mobil Jeep Rubicon Mario Da...   \n",
              "16  Erick Thohir Bantah Isu Pemecatan Shin Tae-yon...   \n",
              "17  HEADLINE: Anas Urbaningrum Bebas April 2023, P...   \n",
              "18  HEADLINE: Anas Urbaningrum Bebas April 2023, P...   \n",
              "\n",
              "                                           Isi Berita  \n",
              "0    Top 3 news hari ini terkait pekerja bangunan ...  \n",
              "1    Mahkamah Agung didesak untuk memberikan perin...  \n",
              "2    Ketum PDI Perjuangan (PDIP) Megawati Soekarno...  \n",
              "3    Komisi Pemberantasan Korupsi (KPK) menyatakan...  \n",
              "4    Skema aturan ganjil genap oleh otoritas setem...  \n",
              "5    Komisi Yudisial (KY) menanggapi terkait putus...  \n",
              "6    Komisi Pemberantasan Korupsi (KPK) mengungkap...  \n",
              "7    Cuaca hari ini, Jumat (3/3/2023), pagi di Jak...  \n",
              "8    Curah hujan tinggi sejak beberapa hari lalu, ...  \n",
              "9    Komisi II DPR akan memanggil Komisi Pemilihan...  \n",
              "10   Ketua Komisi II DPR RI, Ahmad Doli Kurnia men...  \n",
              "11  Liputan6.com, Jakarta Menko Polhukam Mahfud Md...  \n",
              "12  Liputan6.com, Jakarta Sekretaris Jenderal PDIP...  \n",
              "13  Liputan6.com, Jakarta Ketua Komisi Pemilihan U...  \n",
              "14  Liputan6.com, Jakarta Ketua Umum Pimpinan Pusa...  \n",
              "15  Liputan6.com, Jakarta Sebuah botol minuman ker...  \n",
              "16  Liputan6.com, Jakarta Ketua Umum Persatuan Sep...  \n",
              "17   Mantan Ketua Umum Partai Demokrat Anas Urbani...  \n",
              "18   Mantan Ketua Umum Partai Demokrat Anas Urbani...  "
            ],
            "text/html": [
              "\n",
              "  <div id=\"df-37c38dbf-ee6e-4d91-bd13-77dd0038beff\">\n",
              "    <div class=\"colab-df-container\">\n",
              "      <div>\n",
              "<style scoped>\n",
              "    .dataframe tbody tr th:only-of-type {\n",
              "        vertical-align: middle;\n",
              "    }\n",
              "\n",
              "    .dataframe tbody tr th {\n",
              "        vertical-align: top;\n",
              "    }\n",
              "\n",
              "    .dataframe thead th {\n",
              "        text-align: right;\n",
              "    }\n",
              "</style>\n",
              "<table border=\"1\" class=\"dataframe\">\n",
              "  <thead>\n",
              "    <tr style=\"text-align: right;\">\n",
              "      <th></th>\n",
              "      <th>Judul Berita</th>\n",
              "      <th>Isi Berita</th>\n",
              "    </tr>\n",
              "  </thead>\n",
              "  <tbody>\n",
              "    <tr>\n",
              "      <th>0</th>\n",
              "      <td>Top 3 News: Pekerja Bangunan di Tangerang Sera...</td>\n",
              "      <td>Top 3 news hari ini terkait pekerja bangunan ...</td>\n",
              "    </tr>\n",
              "    <tr>\n",
              "      <th>1</th>\n",
              "      <td>NasDem Desak MA Beri Peringatan PN Jakpus atas...</td>\n",
              "      <td>Mahkamah Agung didesak untuk memberikan perin...</td>\n",
              "    </tr>\n",
              "    <tr>\n",
              "      <th>2</th>\n",
              "      <td>Soal Putusan PN Jakpus, Megawati: Upaya Penund...</td>\n",
              "      <td>Ketum PDI Perjuangan (PDIP) Megawati Soekarno...</td>\n",
              "    </tr>\n",
              "    <tr>\n",
              "      <th>3</th>\n",
              "      <td>Klarifikasi Harta Rp56 Miliar Belum Selesai, K...</td>\n",
              "      <td>Komisi Pemberantasan Korupsi (KPK) menyatakan...</td>\n",
              "    </tr>\n",
              "    <tr>\n",
              "      <th>4</th>\n",
              "      <td>Jelang Akhir Pekan, Simak Lagi 26 Titik Ganjil...</td>\n",
              "      <td>Skema aturan ganjil genap oleh otoritas setem...</td>\n",
              "    </tr>\n",
              "    <tr>\n",
              "      <th>5</th>\n",
              "      <td>KY Persilahkan KPU Lapor atas Putusan PN Jakpu...</td>\n",
              "      <td>Komisi Yudisial (KY) menanggapi terkait putus...</td>\n",
              "    </tr>\n",
              "    <tr>\n",
              "      <th>6</th>\n",
              "      <td>KPK Sebut Rafael Alun Punya Saham di 6 Perusah...</td>\n",
              "      <td>Komisi Pemberantasan Korupsi (KPK) mengungkap...</td>\n",
              "    </tr>\n",
              "    <tr>\n",
              "      <th>7</th>\n",
              "      <td>Cuaca Hari Ini Jumat 3 Maret 2023: Pagi Jakart...</td>\n",
              "      <td>Cuaca hari ini, Jumat (3/3/2023), pagi di Jak...</td>\n",
              "    </tr>\n",
              "    <tr>\n",
              "      <th>8</th>\n",
              "      <td>Banjir di Kota Tangerang, Dinsos Salurkan Bant...</td>\n",
              "      <td>Curah hujan tinggi sejak beberapa hari lalu, ...</td>\n",
              "    </tr>\n",
              "    <tr>\n",
              "      <th>9</th>\n",
              "      <td>Komisi II DPR Bakal Panggil KPU Terkait Putusa...</td>\n",
              "      <td>Komisi II DPR akan memanggil Komisi Pemilihan...</td>\n",
              "    </tr>\n",
              "    <tr>\n",
              "      <th>10</th>\n",
              "      <td>Ketua Komisi II: PN Jakpus Lampaui Kewenangan ...</td>\n",
              "      <td>Ketua Komisi II DPR RI, Ahmad Doli Kurnia men...</td>\n",
              "    </tr>\n",
              "    <tr>\n",
              "      <th>11</th>\n",
              "      <td>Hadapi Vonis PN Jakpus, Mahfud Md: KPU Harus L...</td>\n",
              "      <td>Liputan6.com, Jakarta Menko Polhukam Mahfud Md...</td>\n",
              "    </tr>\n",
              "    <tr>\n",
              "      <th>12</th>\n",
              "      <td>Megawati Disebut Sudah Bertemu Sri Mulyani, Be...</td>\n",
              "      <td>Liputan6.com, Jakarta Sekretaris Jenderal PDIP...</td>\n",
              "    </tr>\n",
              "    <tr>\n",
              "      <th>13</th>\n",
              "      <td>Tunggu Salinan Resmi dari PN Jakpus, KPU Pasti...</td>\n",
              "      <td>Liputan6.com, Jakarta Ketua Komisi Pemilihan U...</td>\n",
              "    </tr>\n",
              "    <tr>\n",
              "      <th>14</th>\n",
              "      <td>Dave Laksono ke Barcelona, Bangun Kerja Sama P...</td>\n",
              "      <td>Liputan6.com, Jakarta Ketua Umum Pimpinan Pusa...</td>\n",
              "    </tr>\n",
              "    <tr>\n",
              "      <th>15</th>\n",
              "      <td>Kabar Ada Miras di Mobil Jeep Rubicon Mario Da...</td>\n",
              "      <td>Liputan6.com, Jakarta Sebuah botol minuman ker...</td>\n",
              "    </tr>\n",
              "    <tr>\n",
              "      <th>16</th>\n",
              "      <td>Erick Thohir Bantah Isu Pemecatan Shin Tae-yon...</td>\n",
              "      <td>Liputan6.com, Jakarta Ketua Umum Persatuan Sep...</td>\n",
              "    </tr>\n",
              "    <tr>\n",
              "      <th>17</th>\n",
              "      <td>HEADLINE: Anas Urbaningrum Bebas April 2023, P...</td>\n",
              "      <td>Mantan Ketua Umum Partai Demokrat Anas Urbani...</td>\n",
              "    </tr>\n",
              "    <tr>\n",
              "      <th>18</th>\n",
              "      <td>HEADLINE: Anas Urbaningrum Bebas April 2023, P...</td>\n",
              "      <td>Mantan Ketua Umum Partai Demokrat Anas Urbani...</td>\n",
              "    </tr>\n",
              "  </tbody>\n",
              "</table>\n",
              "</div>\n",
              "      <button class=\"colab-df-convert\" onclick=\"convertToInteractive('df-37c38dbf-ee6e-4d91-bd13-77dd0038beff')\"\n",
              "              title=\"Convert this dataframe to an interactive table.\"\n",
              "              style=\"display:none;\">\n",
              "        \n",
              "  <svg xmlns=\"http://www.w3.org/2000/svg\" height=\"24px\"viewBox=\"0 0 24 24\"\n",
              "       width=\"24px\">\n",
              "    <path d=\"M0 0h24v24H0V0z\" fill=\"none\"/>\n",
              "    <path d=\"M18.56 5.44l.94 2.06.94-2.06 2.06-.94-2.06-.94-.94-2.06-.94 2.06-2.06.94zm-11 1L8.5 8.5l.94-2.06 2.06-.94-2.06-.94L8.5 2.5l-.94 2.06-2.06.94zm10 10l.94 2.06.94-2.06 2.06-.94-2.06-.94-.94-2.06-.94 2.06-2.06.94z\"/><path d=\"M17.41 7.96l-1.37-1.37c-.4-.4-.92-.59-1.43-.59-.52 0-1.04.2-1.43.59L10.3 9.45l-7.72 7.72c-.78.78-.78 2.05 0 2.83L4 21.41c.39.39.9.59 1.41.59.51 0 1.02-.2 1.41-.59l7.78-7.78 2.81-2.81c.8-.78.8-2.07 0-2.86zM5.41 20L4 18.59l7.72-7.72 1.47 1.35L5.41 20z\"/>\n",
              "  </svg>\n",
              "      </button>\n",
              "      \n",
              "  <style>\n",
              "    .colab-df-container {\n",
              "      display:flex;\n",
              "      flex-wrap:wrap;\n",
              "      gap: 12px;\n",
              "    }\n",
              "\n",
              "    .colab-df-convert {\n",
              "      background-color: #E8F0FE;\n",
              "      border: none;\n",
              "      border-radius: 50%;\n",
              "      cursor: pointer;\n",
              "      display: none;\n",
              "      fill: #1967D2;\n",
              "      height: 32px;\n",
              "      padding: 0 0 0 0;\n",
              "      width: 32px;\n",
              "    }\n",
              "\n",
              "    .colab-df-convert:hover {\n",
              "      background-color: #E2EBFA;\n",
              "      box-shadow: 0px 1px 2px rgba(60, 64, 67, 0.3), 0px 1px 3px 1px rgba(60, 64, 67, 0.15);\n",
              "      fill: #174EA6;\n",
              "    }\n",
              "\n",
              "    [theme=dark] .colab-df-convert {\n",
              "      background-color: #3B4455;\n",
              "      fill: #D2E3FC;\n",
              "    }\n",
              "\n",
              "    [theme=dark] .colab-df-convert:hover {\n",
              "      background-color: #434B5C;\n",
              "      box-shadow: 0px 1px 3px 1px rgba(0, 0, 0, 0.15);\n",
              "      filter: drop-shadow(0px 1px 2px rgba(0, 0, 0, 0.3));\n",
              "      fill: #FFFFFF;\n",
              "    }\n",
              "  </style>\n",
              "\n",
              "      <script>\n",
              "        const buttonEl =\n",
              "          document.querySelector('#df-37c38dbf-ee6e-4d91-bd13-77dd0038beff button.colab-df-convert');\n",
              "        buttonEl.style.display =\n",
              "          google.colab.kernel.accessAllowed ? 'block' : 'none';\n",
              "\n",
              "        async function convertToInteractive(key) {\n",
              "          const element = document.querySelector('#df-37c38dbf-ee6e-4d91-bd13-77dd0038beff');\n",
              "          const dataTable =\n",
              "            await google.colab.kernel.invokeFunction('convertToInteractive',\n",
              "                                                     [key], {});\n",
              "          if (!dataTable) return;\n",
              "\n",
              "          const docLinkHtml = 'Like what you see? Visit the ' +\n",
              "            '<a target=\"_blank\" href=https://colab.research.google.com/notebooks/data_table.ipynb>data table notebook</a>'\n",
              "            + ' to learn more about interactive tables.';\n",
              "          element.innerHTML = '';\n",
              "          dataTable['output_type'] = 'display_data';\n",
              "          await google.colab.output.renderOutput(dataTable, element);\n",
              "          const docLink = document.createElement('div');\n",
              "          docLink.innerHTML = docLinkHtml;\n",
              "          element.appendChild(docLink);\n",
              "        }\n",
              "      </script>\n",
              "    </div>\n",
              "  </div>\n",
              "  "
            ]
          },
          "metadata": {},
          "execution_count": 3
        }
      ]
    },
    {
      "cell_type": "markdown",
      "source": [
        "## 4.Export To CSV"
      ],
      "metadata": {
        "id": "gyKDqD-3neG4"
      }
    },
    {
      "cell_type": "code",
      "source": [
        "from google.colab import drive\n",
        "drive.mount('/content/drive')\n",
        "path = '/content/drive/My Drive/prosaindata/CrawlingBerita.csv'\n",
        "with open(path, 'w', encoding = 'utf-8-sig') as f:\n",
        "  data.to_csv(f)"
      ],
      "metadata": {
        "colab": {
          "base_uri": "https://localhost:8080/"
        },
        "id": "ueA-Ocj_QlGD",
        "outputId": "5f6f1c8c-6c1d-4f4c-d12c-eaa727d84e9c"
      },
      "execution_count": 6,
      "outputs": [
        {
          "output_type": "stream",
          "name": "stdout",
          "text": [
            "Mounted at /content/drive\n"
          ]
        }
      ]
    }
  ]
}